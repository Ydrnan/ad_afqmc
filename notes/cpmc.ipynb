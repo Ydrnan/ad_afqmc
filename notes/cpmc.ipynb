{
 "cells": [
  {
   "cell_type": "markdown",
   "metadata": {},
   "source": [
    "# CPMC\n"
   ]
  },
  {
   "cell_type": "markdown",
   "metadata": {},
   "source": [
    "Consider the Hamiltonian\n",
    "\n",
    "\\begin{equation*}\n",
    "H = H_1 + H_2 = -t\\left(c_{i\\sigma}^{\\dagger}c_{j\\sigma} + \\text{h.c.}\\right) + U_{ij}n_{i\\sigma}n_{j\\sigma'}.\n",
    "\\end{equation*}\n",
    "\n",
    "Trotter decompose the projector as\n",
    "\\begin{equation*}\n",
    "\\exp(-\\Delta\\tau H) = \\exp(-\\Delta\\tau H_1/2)\\exp(-\\Delta\\tau H_2)\\exp(-\\Delta\\tau H_1/2) + O(\\Delta\\tau^3).\n",
    "\\end{equation*}\n",
    "\n",
    "Using the Hubbard-Stratonovich transformation, the interaction term can be written as\n",
    "\n",
    "\\begin{equation*}\n",
    "\\begin{split}\n",
    "\\exp(-\\Delta\\tau U_{ij}n_{i\\sigma}n_{j\\sigma'}) & = \\Pi_{ij}\\left[ \\exp \\left(-\\frac{\\Delta\\tau U_{ij}}{2}(n_{i\\sigma}+n_{j\\sigma'})\\right) \\sum_{x_{ij}^{\\sigma\\sigma'}=\\pm 1} \\frac{1}{2}\\exp(\\gamma_{ij} x_{ij}^{\\sigma\\sigma'} (n_{i\\sigma} - n_{j\\sigma'}))\\right],\\\\  \n",
    " &=\\Pi_{ij}\\sum_{x_{ij}^{\\sigma\\sigma'}=\\pm 1} \\frac{1}{2} \\exp\\left[\\left(\\gamma_{ij} x_{ij}^{\\sigma\\sigma'}-\\frac{\\Delta\\tau U_{ij}}{2}\\right) n_{i\\sigma} - \\left(\\gamma_{ij} x_{ij}^{\\sigma\\sigma'}+\\frac{\\Delta\\tau U_{ij}}{2}\\right) n_{j\\sigma'}\\right],\\\\\n",
    "&=\\Pi_{ij}\\sum_{x_{ij}^{\\sigma\\sigma'}=\\pm 1} \\frac{1}{2} \\hat{B}_{ij}^{\\sigma\\sigma'}(x_{ij}^{\\sigma\\sigma'})\n",
    "\\end{split}\n",
    "\\end{equation*}\n",
    "where $\\cosh(\\gamma_{ij}) = \\exp \\left(\\frac{\\Delta\\tau U_{ij}}{2}\\right)$. We will drop the indices on the $\\hat{B}$ operators for simplicity. We also define\n",
    "\n",
    "\\begin{equation*}\n",
    "\\lambda_{\\pm}(x_{ij}) = \\pm \\left(\\gamma_{ij} x_{ij}^{\\sigma\\sigma'}\\mp\\frac{\\Delta\\tau U_{ij}}{2}\\right).\n",
    "\\end{equation*}\n",
    "\n",
    "Using this notation, we have\n",
    "\n",
    "\\begin{equation*}\n",
    "\\hat{B} = e^{\\lambda_+n_{i\\sigma}}e^{\\lambda_-n_{j\\sigma'}} = 1 + (e^{\\lambda_+}-1)n_{i\\sigma} + (e^{\\lambda_-}-1)n_{j\\sigma'} + (e^{\\lambda_+}-1)(e^{\\lambda_-}-1)n_{i\\sigma}n_{j\\sigma'},\n",
    "\\end{equation*}\n",
    "where the $x_{ij}$ dependence has been suppressed.\n"
   ]
  },
  {
   "cell_type": "markdown",
   "metadata": {},
   "source": [
    "The action of the exponential operator on a Slater determinant takes a particularly simple form in the site basis. Let's introduce the notation Diag $(\\{i_1, d_{i_1}\\}, \\{i_2, d_{i_2}\\},\\dots)$ to denote the diagonal matrix with the elements $d_{i_1}, d_{i_2},\\dots$ on the diagonal at indices $i_1, i_2,\\dots$ and one at all other indices. Merging spin and orbital indices for the moment, the action of the exponential operator on a Slater determinant $\\ket{\\phi}$ leads to another Slater determinant $\\ket{\\phi'}$ with its matrix given by\n",
    "\\begin{equation*}\n",
    "\\ket{\\phi'} = \\hat{B}\\ket{\\phi} \\rightarrow \\phi' = B\\phi = \\text{Diag}(\\{i,\\exp(\\lambda_{+})\\}, \\{j,\\exp(\\lambda_{-})\\}) \\phi.\n",
    "\\end{equation*}\n"
   ]
  },
  {
   "cell_type": "markdown",
   "metadata": {},
   "source": [
    "The auxiliary fields can be trivially sampled from the uniform distribution, but using importance sampling one can reduce the noise significantly. This is accomplished by choosing $x_{ij}$ according to\n",
    "\n",
    "\\begin{equation*}\n",
    "\\tilde{p}(x_{ij}) \\propto \\text{max}\\left(0, \\frac{\\bra{\\psi_T}\\phi'\\rangle}{\\bra{\\psi_T}\\phi\\rangle}\\right),\n",
    "\\end{equation*}\n",
    "where $\\ket{\\psi_T}$ is a trial state. In addition to importance sampling this also enforces the positivity constraint. It guides the random walk towards regions where overlap with the trial state is large. When the trial state is a HF state, the overlap is given by\n",
    "\\begin{equation*}\n",
    "\\bra{\\psi_T}\\phi\\rangle = \\det(\\psi_{T}^{\\dagger} \\phi) = \\det(O(\\phi)),\n",
    "\\end{equation*}\n",
    "assuming a GHF trial state. For $n_e = n_{e\\uparrow} + n_{e\\downarrow}$ electrons in $n_o$ orbitals, $\\psi_T$ is a $2n_0\\times n_e$ matrix which we can think of being made up of two blocks. $O(\\phi)$ is a $n_e \\times n_e$ matrix, called the overlap matrix.\n"
   ]
  },
  {
   "cell_type": "code",
   "execution_count": 4,
   "metadata": {},
   "outputs": [],
   "source": [
    "import numpy as np\n",
    "import scipy as sp\n",
    "\n",
    "np.set_printoptions(precision=4, suppress=True)\n",
    "np.random.seed(0)\n",
    "\n",
    "n_e = (4, 3)\n",
    "n_o = 6\n",
    "psi_t_up = np.random.randn(n_o, sum(n_e))\n",
    "psi_t_down = np.random.randn(n_o, sum(n_e))\n",
    "psi_t = np.vstack((psi_t_up, psi_t_down))\n",
    "phi_up = np.random.randn(n_o, n_e[0])\n",
    "phi_down = np.random.randn(n_o, n_e[1])\n",
    "phi = sp.linalg.block_diag(phi_up, phi_down)\n",
    "overlap_mat = psi_t.T.conj() @ phi\n",
    "overlap = np.linalg.det(overlap_mat)"
   ]
  },
  {
   "cell_type": "markdown",
   "metadata": {},
   "source": [
    "With a UHF walker and a GHF trial state, we can often save computational time by using the block structure.\n",
    "\n",
    "\\begin{equation*}\n",
    "O(\\phi) = \\begin{pmatrix}\n",
    "\\psi_{T\\uparrow}^{\\dagger} & \\psi_{T\\downarrow}^{\\dagger}\\\\\n",
    "\\end{pmatrix} \\begin{pmatrix}\n",
    "\\phi_{\\uparrow} & 0\\\\\n",
    "0 & \\phi_{\\downarrow}\\\\  \n",
    " \\end{pmatrix} = \\begin{pmatrix}\n",
    "\\psi_{T\\uparrow}^{\\dagger}\\phi_{\\uparrow} & \\psi_{T\\downarrow}^{\\dagger}\\phi_{\\downarrow}\\\\\n",
    "\\end{pmatrix}.\n",
    "\\end{equation*}\n"
   ]
  },
  {
   "cell_type": "code",
   "execution_count": 5,
   "metadata": {},
   "outputs": [
    {
     "data": {
      "text/plain": [
       "True"
      ]
     },
     "execution_count": 5,
     "metadata": {},
     "output_type": "execute_result"
    }
   ],
   "source": [
    "overlap_mat_up = psi_t_up.T.conj() @ phi_up\n",
    "overlap_mat_down = psi_t_down.T.conj() @ phi_down\n",
    "np.allclose(overlap_mat, np.hstack((overlap_mat_up, overlap_mat_down)))"
   ]
  },
  {
   "cell_type": "markdown",
   "metadata": {},
   "source": [
    "But while deriving the fast update expressions, we will assume a GHF structure for the walkers as well, and suppress the spin indices.\n"
   ]
  },
  {
   "cell_type": "markdown",
   "metadata": {},
   "source": [
    "Importance sampling requires the calculation of overlap ratios of Slater determinants given by\n",
    "\n",
    "\\begin{equation*}\n",
    "\\frac{O(\\phi')}{O(\\phi)} = \\frac{\\bra{\\psi_T}\\hat{B}\\ket{\\phi}}{\\bra{\\psi_T}\\phi\\rangle}.\n",
    "\\end{equation*}\n",
    "\n",
    "The $\\hat{B}$ operator contains up to two body terms, and therefore this ratio can be evaluated efficiently using Wick's theorem. The Green's function is given by\n",
    "\n",
    "\\begin{equation*}\n",
    "G(\\phi)_{pq} = \\frac{\\bra{\\psi_T}c_p^{\\dagger}c_q\\ket{\\phi}}{\\bra{\\psi_T}\\phi\\rangle} = (\\phi O(\\phi)^{-1} \\psi_T^{\\dagger})_{qp}.\n",
    "\\end{equation*}\n",
    "\n",
    "Looking at the expression for $B$, we need the following elements:\n",
    "\n",
    "\\begin{equation*}\n",
    "\\begin{split}\n",
    "\\frac{\\bra{\\psi_T}n_{i}\\ket{\\phi}}{\\bra{\\psi_T}\\phi\\rangle} &= G(\\phi)_{ii},\\\\\n",
    "\\frac{\\bra{\\psi_T}n_{j}\\ket{\\phi}}{\\bra{\\psi_T}\\phi\\rangle} &= G(\\phi)_{jj},\\\\\n",
    "\\frac{\\bra{\\psi_T}n_{i}n_{j}\\ket{\\phi}}{\\bra{\\psi_T}\\phi\\rangle} &= G(\\phi)_{ii}G(\\phi)_{jj} - G(\\phi)_{ij}G(\\phi)_{ji}.\n",
    "\\end{split}\n",
    "\\end{equation*}\n",
    "In the final line, we have used the fact that $i\\neq j$.\n",
    "\n",
    "Using these we get for the overlap ratio\n",
    "\n",
    "\\begin{equation*}\n",
    "\\frac{\\bra{\\psi_T}\\hat{B}\\ket{\\phi}}{\\bra{\\psi_T}\\phi\\rangle} = (1 + (e^{\\lambda_+}-1)G(\\phi)_{ii})(1 + (e^{\\lambda_-}-1)G(\\phi)_{jj}) - (e^{\\lambda_+}-1)(e^{\\lambda_-}-1)G(\\phi)_{ij}G(\\phi)_{ji}.\n",
    "\\end{equation*}\n"
   ]
  },
  {
   "cell_type": "code",
   "execution_count": 6,
   "metadata": {},
   "outputs": [
    {
     "data": {
      "text/plain": [
       "True"
      ]
     },
     "execution_count": 6,
     "metadata": {},
     "output_type": "execute_result"
    }
   ],
   "source": [
    "# spin indices convention: all up followed by all down\n",
    "i = 0\n",
    "j = 3\n",
    "lambda_p = np.random.randn()\n",
    "lambda_n = np.random.randn()\n",
    "cons_p = np.exp(lambda_p) - 1\n",
    "cons_n = np.exp(lambda_n) - 1\n",
    "phi_p = phi.copy()\n",
    "phi_p[i] = np.exp(lambda_p) * phi[i]\n",
    "phi_p[j] = np.exp(lambda_n) * phi[j]\n",
    "overlap_mat_p = psi_t.T.conj() @ phi_p\n",
    "overlap_p = np.linalg.det(overlap_mat_p)\n",
    "ratio = overlap_p / overlap\n",
    "green = (phi @ np.linalg.inv(overlap_mat) @ psi_t.T.conj()).T\n",
    "wick_ratio = (1 + cons_p * green[i, i]) * (\n",
    "    1 + cons_n * green[j, j]\n",
    ") - cons_p * cons_n * green[i, j] * green[j, i]\n",
    "np.allclose(ratio, wick_ratio)"
   ]
  },
  {
   "cell_type": "markdown",
   "metadata": {},
   "source": [
    "While this saves a costly $O(N^3)$ determinant calculation, it requires the use of the Green's function which itself requires $O(N^3)$ effort. But there is a way to update the Green's function efficiently in $O(N^2)$ time. To see this we use Wick's theorem again:\n",
    "\n",
    "\\begin{equation*}\n",
    "G(\\phi')_{pq} = \\frac{\\bra{\\psi_T}c_p^{\\dagger}c_q\\hat{B}\\ket{\\phi}}{\\bra{\\psi_T}\\hat{B}\\ket{\\phi}} = \\frac{\\bra{\\psi_T}c_p^{\\dagger}c_q\\hat{B}\\ket{\\phi}}{\\bra{\\psi_T}\\phi\\rangle} / \\frac{\\bra{\\psi_T}\\hat{B}\\ket{\\phi}}{\\bra{\\psi_T}\\phi\\rangle}.\n",
    "\\end{equation*}\n",
    "\n",
    "We recognize the denominator as the overlap ratio we just calculated. Looking at the expression for $\\hat{B}$, we see that the numerator consists of the following terms:\n",
    "\n",
    "\\begin{equation*}\n",
    "\\begin{split}\n",
    "\\frac{\\bra{\\psi_T}c_p^{\\dagger}c_qn_i\\ket{\\phi}}{\\bra{\\psi_T}\\phi\\rangle} &= G(\\phi)_{pq}G(\\phi)_{ii} - G(\\phi)_{pi}(G(\\phi)-I)_{iq},\\\\\n",
    "\\frac{\\bra{\\psi_T}c_p^{\\dagger}c_qn_j\\ket{\\phi}}{\\bra{\\psi_T}\\phi\\rangle} &= G(\\phi)_{pq}G(\\phi)_{jj} - G(\\phi)_{pj}(G(\\phi)-I)_{jq},\\\\\n",
    "\\frac{\\bra{\\psi_T}c_p^{\\dagger}c_qn_in_j\\ket{\\phi}}{\\bra{\\psi_T}\\phi\\rangle} &= \\det G'(\\phi)_{pij,qij}.\n",
    "\\end{split}\n",
    "\\end{equation*}"
   ]
  },
  {
   "cell_type": "code",
   "execution_count": 7,
   "metadata": {},
   "outputs": [],
   "source": [
    "green_p = (phi_p @ np.linalg.inv(overlap_mat_p) @ psi_t.T.conj()).T\n",
    "# using wicks theorem\n",
    "g_i = green * green[i, i] - np.outer(green[:, i], green[i])\n",
    "g_j = green * green[j, j] - np.outer(green[:, j], green[j])\n",
    "g_ij_1 = green * (green[i, i] * green[j, j] - green[i, j] * green[j, i])\n",
    "v_i = np.zeros(2 * n_o)\n",
    "v_i[i] = 1.0\n",
    "v_j = np.zeros(2 * n_o)\n",
    "v_j[j] = 1.0\n",
    "g_ij_2 = -np.outer(\n",
    "    green[:, i], (green[j, j] * (green[i] - v_i) - green[i, j] * (green[j] - v_j))\n",
    ")\n",
    "g_ij_3 = np.outer(\n",
    "    green[:, j], (green[j, i] * (green[i] - v_i) - green[i, i] * (green[j] - v_j))\n",
    ")"
   ]
  }
 ],
 "metadata": {
  "kernelspec": {
   "display_name": "py39",
   "language": "python",
   "name": "python3"
  },
  "language_info": {
   "codemirror_mode": {
    "name": "ipython",
    "version": 3
   },
   "file_extension": ".py",
   "mimetype": "text/x-python",
   "name": "python",
   "nbconvert_exporter": "python",
   "pygments_lexer": "ipython3",
   "version": "3.11.5"
  },
  "orig_nbformat": 4
 },
 "nbformat": 4,
 "nbformat_minor": 2
}
