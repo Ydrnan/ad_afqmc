{
 "cells": [
  {
   "cell_type": "code",
   "execution_count": 1,
   "metadata": {},
   "outputs": [],
   "source": [
    "%load_ext autoreload\n",
    "%autoreload 2"
   ]
  },
  {
   "cell_type": "code",
   "execution_count": 2,
   "metadata": {},
   "outputs": [
    {
     "name": "stderr",
     "output_type": "stream",
     "text": [
      "/Users/ankitmahajan/miniconda3/envs/py311/lib/python3.11/site-packages/pyscf/dft/libxc.py:772: UserWarning: Since PySCF-2.3, B3LYP (and B3P86) are changed to the VWN-RPA variant, the same to the B3LYP functional in Gaussian and ORCA (issue 1480). To restore the VWN5 definition, you can put the setting \"B3LYP_WITH_VWN5 = True\" in pyscf_conf.py\n",
      "  warnings.warn('Since PySCF-2.3, B3LYP (and B3P86) are changed to the VWN-RPA variant, '\n"
     ]
    },
    {
     "name": "stdout",
     "output_type": "stream",
     "text": [
      "# Hostname: MacBook-Air-548\n",
      "# System Type: Darwin\n",
      "# Machine Type: x86_64\n",
      "# Processor: i386\n"
     ]
    }
   ],
   "source": [
    "import sys\n",
    "import numpy as np\n",
    "import os\n",
    "\n",
    "from jax import jit, numpy as jnp\n",
    "import pickle\n",
    "\n",
    "module_path = os.path.abspath(os.path.join(os.getcwd() + \"/..\"))\n",
    "if module_path not in sys.path:\n",
    "    sys.path.append(module_path)\n",
    "\n",
    "from ad_afqmc import driver, pyscf_interface, mpi_jax, wavefunctions\n",
    "\n",
    "from pyscf import fci, gto, scf\n",
    "\n",
    "from typing import Tuple\n",
    "from dataclasses import dataclass\n",
    "\n",
    "np.set_printoptions(precision=5, suppress=True)"
   ]
  },
  {
   "cell_type": "markdown",
   "metadata": {},
   "source": [
    "### Minimal RHF implementation\n",
    "\n",
    "Only the overlap needs to be defined (and `__hash__` for technical reasons, but a simple definitions as follows will do).\n"
   ]
  },
  {
   "cell_type": "code",
   "execution_count": 3,
   "metadata": {},
   "outputs": [],
   "source": [
    "@dataclass\n",
    "class rhf(wavefunctions.wave_function_auto):\n",
    "    norb: int\n",
    "    nelec: Tuple[int, int]\n",
    "\n",
    "    def _calc_overlap(\n",
    "        self, walker_up: jnp.ndarray, walker_dn: jnp.ndarray, wave_data: dict\n",
    "    ) -> jnp.ndarray:\n",
    "        return jnp.linalg.det(wave_data[\"mo_coeff\"].T @ walker_up) * jnp.linalg.det(\n",
    "            wave_data[\"mo_coeff\"].T @ walker_dn\n",
    "        )\n",
    "\n",
    "    def __hash__(self):\n",
    "        return hash(tuple(self.__dict__.values()))"
   ]
  },
  {
   "cell_type": "code",
   "execution_count": null,
   "metadata": {},
   "outputs": [],
   "source": [
    "r = 1.012\n",
    "theta = 106.67 * np.pi / 180.0\n",
    "rz = r * np.sqrt(np.cos(theta / 2) ** 2 - np.sin(theta / 2) ** 2 / 3)\n",
    "dc = 2 * r * np.sin(theta / 2) / np.sqrt(3)\n",
    "atomstring = f\"\"\"\n",
    "                 N 0. 0. 0.\n",
    "                 H 0. {dc} {rz}\n",
    "                 H {r * np.sin(theta/2)} {-dc/2} {rz}\n",
    "                 H {-r * np.sin(theta/2)} {-dc/2} {rz}\n",
    "              \"\"\"\n",
    "mol = gto.M(atom=atomstring, basis=\"sto-6g\", verbose=3, symmetry=0)\n",
    "mf = scf.RHF(mol)\n",
    "mf.kernel()\n",
    "\n",
    "# fci\n",
    "cisolver = fci.FCI(mol, mf.mo_coeff)\n",
    "efci, ci = cisolver.kernel()\n",
    "print(f\"FCI energy: {efci}\")\n",
    "\n",
    "trial = rhf(mol.nao, mol.nelec)\n",
    "wave_data = {\n",
    "    \"mo_coeff\": jnp.eye(mol.nao)[:, : mol.nelec[0]]\n",
    "}  # afqmc is performed in the rhf basis\n",
    "\n",
    "# write trial to disk\n",
    "with open(\"trial.pkl\", \"wb\") as f:\n",
    "    pickle.dump([trial, wave_data], f)\n",
    "\n",
    "pyscf_interface.prep_afqmc(mf)\n",
    "options = {\n",
    "    \"dt\": 0.005,\n",
    "    \"n_eql\": 3,\n",
    "    \"n_ene_blocks\": 1,\n",
    "    \"n_sr_blocks\": 5,\n",
    "    \"n_blocks\": 100,\n",
    "    \"n_walkers\": 50,\n",
    "    \"seed\": 98,\n",
    "    \"walker_type\": \"rhf\",\n",
    "}\n",
    "e_afqmc, err_afqmc = driver.afqmc(*(mpi_jax._prep_afqmc(options)))"
   ]
  },
  {
   "cell_type": "markdown",
   "metadata": {},
   "source": [
    "A simple way to speed up the above calculation is to define a function for the restricted walker i.e. spin up and spin down dets are the same.\n"
   ]
  },
  {
   "cell_type": "code",
   "execution_count": 4,
   "metadata": {},
   "outputs": [],
   "source": [
    "@dataclass\n",
    "class rhf_faster(rhf):\n",
    "    def _calc_overlap_restricted(self, walker, wave_data: dict) -> jnp.ndarray:\n",
    "        return jnp.linalg.det(wave_data[\"mo_coeff\"].T @ walker) ** 2\n",
    "\n",
    "    def __hash__(self) -> int:\n",
    "        return hash(tuple(self.__dict__.values()))"
   ]
  },
  {
   "cell_type": "code",
   "execution_count": null,
   "metadata": {},
   "outputs": [],
   "source": [
    "trial = rhf_faster(mol.nao, mol.nelec)\n",
    "wave_data = {\n",
    "    \"mo_coeff\": jnp.eye(mol.nao)[:, : mol.nelec[0]]\n",
    "}  # afqmc is performed in the rhf basis\n",
    "\n",
    "# write trial to disk\n",
    "with open(\"trial.pkl\", \"wb\") as f:\n",
    "    pickle.dump([trial, wave_data], f)\n",
    "\n",
    "pyscf_interface.prep_afqmc(mf)\n",
    "options = {\n",
    "    \"dt\": 0.005,\n",
    "    \"n_eql\": 3,\n",
    "    \"n_ene_blocks\": 1,\n",
    "    \"n_sr_blocks\": 5,\n",
    "    \"n_blocks\": 100,\n",
    "    \"n_walkers\": 50,\n",
    "    \"seed\": 98,\n",
    "    \"walker_type\": \"rhf\",\n",
    "}\n",
    "e_afqmc, err_afqmc = driver.afqmc(*(mpi_jax._prep_afqmc(options)))"
   ]
  }
 ],
 "metadata": {
  "kernelspec": {
   "display_name": "py311",
   "language": "python",
   "name": "python3"
  },
  "language_info": {
   "codemirror_mode": {
    "name": "ipython",
    "version": 3
   },
   "file_extension": ".py",
   "mimetype": "text/x-python",
   "name": "python",
   "nbconvert_exporter": "python",
   "pygments_lexer": "ipython3",
   "version": "3.11.5"
  }
 },
 "nbformat": 4,
 "nbformat_minor": 2
}
