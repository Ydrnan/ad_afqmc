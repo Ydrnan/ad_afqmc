{
 "cells": [
  {
   "cell_type": "code",
   "execution_count": 1,
   "id": "7f294d51",
   "metadata": {},
   "outputs": [],
   "source": [
    "%load_ext autoreload"
   ]
  },
  {
   "cell_type": "code",
   "execution_count": 2,
   "id": "1e9ffe2b",
   "metadata": {},
   "outputs": [],
   "source": [
    "import sys\n",
    "sys.path.append('/burg/home/su2254/in_prep/moire/src/localized_orbitals')\n",
    "\n",
    "import extended_hubbard as eh\n",
    "import basis as wbasis\n",
    "\n",
    "import scipy\n",
    "import numpy as np\n",
    "import matplotlib.pyplot as plt"
   ]
  },
  {
   "cell_type": "code",
   "execution_count": 3,
   "id": "669a6260",
   "metadata": {},
   "outputs": [],
   "source": [
    "import matplotlib as mpl\n",
    "import matplotlib.font_manager as font_manager\n",
    "from matplotlib.ticker import (MultipleLocator, AutoMinorLocator)\n",
    "from mpl_toolkits.axes_grid1.inset_locator import inset_axes\n",
    "from mpl_toolkits.axes_grid1 import make_axes_locatable\n",
    "from matplotlib import rcParams\n",
    "import matplotlib.colors as mcolors\n",
    "plt.rc('font',family='serif')\n",
    "plt.rc('xtick',labelsize=16)\n",
    "plt.rc('ytick',labelsize=16)\n",
    "plt.rc('axes',labelsize=20)\n",
    "plt.rc('axes',titlesize=20)\n",
    "plt.rc('legend',fontsize=16)\n",
    "plt.rc('lines', linewidth=2)\n",
    "plt.rc('savefig', dpi=300)\n",
    "\n",
    "plt.rcParams['figure.autolayout'] =  True\n",
    "plt.rcParams[\"font.family\"] = \"Serif\"\n",
    "cmfont = font_manager.FontProperties(fname=mpl.get_data_path() + '/fonts/ttf/cmr10.ttf')\n",
    "mpl.rcParams['font.serif']=cmfont.get_name()\n",
    "mpl.rcParams['mathtext.fontset']='cm'\n",
    "mpl.rcParams['axes.unicode_minus']=False\n",
    "plt.rcParams['figure.figsize'] = [10, 8]\n",
    "colors = list(mcolors.XKCD_COLORS.values())"
   ]
  },
  {
   "cell_type": "code",
   "execution_count": 4,
   "id": "0fddee89",
   "metadata": {},
   "outputs": [],
   "source": [
    "EV_TO_HARTREE = 0.036749322175655                                               \n",
    "HARTREE_TO_EV = 27.211386245988                                                 \n",
    "ANGSTROM_TO_BOHR = 1.8897261246257702                                           \n",
    "BOHR_TO_ANGSTROM = 0.529177210903\n",
    "RAD_TO_DEG = 180. / np.pi\n",
    "TOL = 1e-10"
   ]
  },
  {
   "cell_type": "code",
   "execution_count": 5,
   "id": "4af528c0",
   "metadata": {},
   "outputs": [
    {
     "name": "stdout",
     "output_type": "stream",
     "text": [
      "\n",
      "# (nup, ndown) = (5, 5)\n",
      "# L = 0.529 A\n",
      "# (Nx, Ny) = (5, 5)\n",
      "# nsite = 25\n",
      "# furthest neighbour = 4\n",
      "\n",
      "# Hopping terms:\n",
      "#\tt0 = 2.721e+04 meV\n",
      "#\tt1 = 1.361e+04 meV\n",
      "#\tt2 = 2.721e+03 meV\n",
      "#\tt3 = 2.721e+02 meV\n",
      "#\tt4 = 2.721e+01 meV\n",
      "\n",
      "# Coulomb terms:\n",
      "#\tU0 = 2.721e+05 meV\n",
      "#\tU1 = 1.361e+05 meV\n",
      "#\tU2 = 8.163e+04 meV\n",
      "#\tU3 = 2.721e+04 meV\n",
      "#\tU4 = 2.721e+03 meV\n"
     ]
    }
   ],
   "source": [
    "%autoreload\n",
    "\n",
    "nelec = (5, 5)\n",
    "N_arr = (5, 5)\n",
    "t_arr = (1, 0.5, 0.1, 0.01, 0.001)\n",
    "U_arr = (10, 5, 3, 1, 0.1)\n",
    "L = 1\n",
    "direct_vecs = L * np.array([[1., np.cos(np.pi/3.)],\n",
    "                            [0., np.sin(np.pi/3.)]])\n",
    "\n",
    "EH = eh.ExtendedHubbard(nelec, N_arr, t_arr, U_arr, direct_vecs, verbose=True)"
   ]
  },
  {
   "cell_type": "markdown",
   "id": "ab622d68",
   "metadata": {},
   "source": [
    "# Check $k$-th nearest neighbours"
   ]
  },
  {
   "cell_type": "code",
   "execution_count": 6,
   "id": "baffd086",
   "metadata": {},
   "outputs": [
    {
     "name": "stdout",
     "output_type": "stream",
     "text": [
      "\n",
      "# self.knn_shells:\n",
      "{0: array([[0, 0],\n",
      "       [0, 0],\n",
      "       [0, 0],\n",
      "       [0, 0],\n",
      "       [0, 0],\n",
      "       [0, 0]]),\n",
      " 1: array([[ 1,  0],\n",
      "       [ 0,  1],\n",
      "       [-1,  1],\n",
      "       [-1,  0],\n",
      "       [ 0, -1],\n",
      "       [ 1, -1]]),\n",
      " 2: array([[ 1,  1],\n",
      "       [-1,  2],\n",
      "       [-2,  1],\n",
      "       [-1, -1],\n",
      "       [ 1, -2],\n",
      "       [ 2, -1]]),\n",
      " 3: array([[ 2,  0],\n",
      "       [ 0,  2],\n",
      "       [-2,  2],\n",
      "       [-2,  0],\n",
      "       [ 0, -2],\n",
      "       [ 2, -2]]),\n",
      " 4: array([[ 2,  1],\n",
      "       [-1,  3],\n",
      "       [-3,  2],\n",
      "       [-2, -1],\n",
      "       [ 1, -3],\n",
      "       [ 3, -2],\n",
      "       [ 1,  2],\n",
      "       [-2,  3],\n",
      "       [-3,  1],\n",
      "       [-1, -2],\n",
      "       [ 2, -3],\n",
      "       [ 3, -1]])}\n"
     ]
    }
   ],
   "source": [
    "%autoreload\n",
    "\n",
    "knn_shells = EH.build_knn_shells()"
   ]
  },
  {
   "cell_type": "code",
   "execution_count": 7,
   "id": "0cd08658",
   "metadata": {},
   "outputs": [
    {
     "name": "stderr",
     "output_type": "stream",
     "text": [
      "/local/ipykernel_3190362/1752154637.py:1: UserWarning: cmr10 font should ideally be used with mathtext, set axes.formatter.use_mathtext to True\n",
      "  fig, ax = plt.subplots(1, 1, figsize=(6, 6))\n"
     ]
    },
    {
     "data": {
      "text/plain": [
       "<matplotlib.legend.Legend at 0x1554964eba30>"
      ]
     },
     "execution_count": 7,
     "metadata": {},
     "output_type": "execute_result"
    },
    {
     "data": {
      "image/png": "[encoded data removed]",
      "text/plain": [
       "<Figure size 432x432 with 1 Axes>"
      ]
     },
     "metadata": {
      "needs_background": "light"
     },
     "output_type": "display_data"
    }
   ],
   "source": [
    "fig, ax = plt.subplots(1, 1, figsize=(6, 6))\n",
    "\n",
    "for k in range(1, EH.max_k+1):\n",
    "    knn_shell = knn_shells[k]\n",
    "    ax.scatter(knn_shell[:, 0], knn_shell[:, 1], label=rf'$k$ = {k}')\n",
    "\n",
    "# ax.scatter(EH.direct_vecs[0], EH.direct_vecs[1], label=rf'$L$', marker='x', s=50, lw=3)\n",
    "ax.set_aspect('equal')\n",
    "ax.grid()\n",
    "ax.legend()"
   ]
  },
  {
   "cell_type": "code",
   "execution_count": 8,
   "id": "a3f759d1",
   "metadata": {},
   "outputs": [
    {
     "name": "stderr",
     "output_type": "stream",
     "text": [
      "/local/ipykernel_3190362/2090252400.py:1: UserWarning: cmr10 font should ideally be used with mathtext, set axes.formatter.use_mathtext to True\n",
      "  fig, ax = plt.subplots(1, 1, figsize=(6, 6))\n"
     ]
    },
    {
     "data": {
      "text/plain": [
       "<matplotlib.legend.Legend at 0x15549228a130>"
      ]
     },
     "execution_count": 8,
     "metadata": {},
     "output_type": "execute_result"
    },
    {
     "data": {
      "image/png": "[encoded data removed]",
      "text/plain": [
       "<Figure size 432x432 with 1 Axes>"
      ]
     },
     "metadata": {
      "needs_background": "light"
     },
     "output_type": "display_data"
    }
   ],
   "source": [
    "fig, ax = plt.subplots(1, 1, figsize=(6, 6))\n",
    "\n",
    "for k in range(1, EH.max_k+1):\n",
    "    knn_shell = knn_shells[k] @ EH.direct_vecs.T\n",
    "    ax.scatter(knn_shell[:, 0], knn_shell[:, 1], label=rf'$k$ = {k}')\n",
    "\n",
    "ax.scatter(EH.direct_vecs[0], EH.direct_vecs[1], label=rf'$L$', marker='x', s=50, lw=3)\n",
    "ax.set_aspect('equal')\n",
    "ax.grid()\n",
    "ax.legend()"
   ]
  },
  {
   "cell_type": "markdown",
   "id": "c1f1c59e",
   "metadata": {},
   "source": [
    "# Check hopping matrix elements"
   ]
  },
  {
   "cell_type": "code",
   "execution_count": 9,
   "id": "733f351b",
   "metadata": {},
   "outputs": [],
   "source": [
    "%autoreload\n",
    "\n",
    "t0_mat = EH.build_hopping_matrix(0)\n",
    "t1_mat = EH.build_hopping_matrix(1)\n",
    "t2_mat = EH.build_hopping_matrix(2)\n",
    "t3_mat = EH.build_hopping_matrix(3)\n",
    "t4_mat = EH.build_hopping_matrix(4)\n",
    "tk_mats = [t0_mat, t1_mat, t2_mat, t3_mat, t4_mat]"
   ]
  },
  {
   "cell_type": "code",
   "execution_count": 10,
   "id": "8f434b28",
   "metadata": {},
   "outputs": [
    {
     "name": "stderr",
     "output_type": "stream",
     "text": [
      "/local/ipykernel_3190362/3073538898.py:1: UserWarning: cmr10 font should ideally be used with mathtext, set axes.formatter.use_mathtext to True\n",
      "  fig, axs = plt.subplots(1, 5, figsize=(14, 10))\n"
     ]
    },
    {
     "data": {
      "image/png": "[encoded data removed]",
      "text/plain": [
       "<Figure size 1008x720 with 5 Axes>"
      ]
     },
     "metadata": {
      "needs_background": "light"
     },
     "output_type": "display_data"
    }
   ],
   "source": [
    "fig, axs = plt.subplots(1, 5, figsize=(14, 10))\n",
    "\n",
    "for k, tk_mat in enumerate(tk_mats):\n",
    "    im = axs[k].matshow(tk_mat)\n",
    "    axs[k].set_title(rf'$k$ = {k}')"
   ]
  },
  {
   "cell_type": "code",
   "execution_count": 11,
   "id": "6f19df20",
   "metadata": {},
   "outputs": [
    {
     "name": "stderr",
     "output_type": "stream",
     "text": [
      "/local/ipykernel_3190362/2883299191.py:3: UserWarning: cmr10 font should ideally be used with mathtext, set axes.formatter.use_mathtext to True\n",
      "  fig, ax = plt.subplots(1, 1, figsize=(6, 6))\n",
      "/local/ipykernel_3190362/2883299191.py:8: UserWarning: cmr10 font should ideally be used with mathtext, set axes.formatter.use_mathtext to True\n",
      "  cax = divider.append_axes('right', size='5%', pad=0.1)\n",
      "/local/ipykernel_3190362/2883299191.py:9: UserWarning: cmr10 font should ideally be used with mathtext, set axes.formatter.use_mathtext to True\n",
      "  fig.colorbar(im, cax=cax, orientation='vertical')\n"
     ]
    },
    {
     "data": {
      "image/png": "[encoded data removed]",
      "text/plain": [
       "<Figure size 432x432 with 2 Axes>"
      ]
     },
     "metadata": {
      "needs_background": "light"
     },
     "output_type": "display_data"
    }
   ],
   "source": [
    "tmat = np.sum(tk_mats, axis=0)\n",
    "\n",
    "fig, ax = plt.subplots(1, 1, figsize=(6, 6))\n",
    "im = ax.matshow(tmat)\n",
    "ax.set_title(r'$t_{ij}$')\n",
    "\n",
    "divider = make_axes_locatable(ax)\n",
    "cax = divider.append_axes('right', size='5%', pad=0.1)\n",
    "fig.colorbar(im, cax=cax, orientation='vertical')\n",
    "ax.set_aspect('equal')"
   ]
  },
  {
   "cell_type": "markdown",
   "id": "9b8088b3",
   "metadata": {},
   "source": [
    "# Check coulomb matrix elements"
   ]
  },
  {
   "cell_type": "code",
   "execution_count": 12,
   "id": "092e515f",
   "metadata": {},
   "outputs": [
    {
     "name": "stdout",
     "output_type": "stream",
     "text": [
      "CPU times: user 14.7 ms, sys: 62.8 ms, total: 77.4 ms\n",
      "Wall time: 229 ms\n"
     ]
    }
   ],
   "source": [
    "%%time\n",
    "%autoreload\n",
    "\n",
    "U0_mat = EH.build_coulomb_matrix(0)\n",
    "U1_mat = EH.build_coulomb_matrix(1)\n",
    "U2_mat = EH.build_coulomb_matrix(2)\n",
    "U3_mat = EH.build_coulomb_matrix(3)\n",
    "U4_mat = EH.build_coulomb_matrix(4)\n",
    "Uk_mats = [U0_mat, U1_mat, U2_mat, U3_mat, U4_mat]"
   ]
  },
  {
   "cell_type": "code",
   "execution_count": 13,
   "id": "acc99314",
   "metadata": {},
   "outputs": [
    {
     "name": "stderr",
     "output_type": "stream",
     "text": [
      "/local/ipykernel_3190362/1960446045.py:1: UserWarning: cmr10 font should ideally be used with mathtext, set axes.formatter.use_mathtext to True\n",
      "  fig, axs = plt.subplots(1, 5, figsize=(14, 10))\n"
     ]
    },
    {
     "data": {
      "image/png": "[encoded data removed]",
      "text/plain": [
       "<Figure size 1008x720 with 5 Axes>"
      ]
     },
     "metadata": {
      "needs_background": "light"
     },
     "output_type": "display_data"
    }
   ],
   "source": [
    "fig, axs = plt.subplots(1, 5, figsize=(14, 10))\n",
    "\n",
    "for k, Uk_mat in enumerate(Uk_mats):\n",
    "    im = axs[k].matshow(Uk_mat)\n",
    "    axs[k].set_title(rf'$k$ = {k}')"
   ]
  },
  {
   "cell_type": "code",
   "execution_count": 14,
   "id": "66cb2ff0",
   "metadata": {},
   "outputs": [
    {
     "name": "stderr",
     "output_type": "stream",
     "text": [
      "/local/ipykernel_3190362/2396539191.py:3: UserWarning: cmr10 font should ideally be used with mathtext, set axes.formatter.use_mathtext to True\n",
      "  fig, ax = plt.subplots(1, 1, figsize=(6, 6))\n",
      "/local/ipykernel_3190362/2396539191.py:8: UserWarning: cmr10 font should ideally be used with mathtext, set axes.formatter.use_mathtext to True\n",
      "  cax = divider.append_axes('right', size='5%', pad=0.1)\n",
      "/local/ipykernel_3190362/2396539191.py:9: UserWarning: cmr10 font should ideally be used with mathtext, set axes.formatter.use_mathtext to True\n",
      "  fig.colorbar(im, cax=cax, orientation='vertical')\n"
     ]
    },
    {
     "data": {
      "image/png": "[encoded data removed]",
      "text/plain": [
       "<Figure size 432x432 with 2 Axes>"
      ]
     },
     "metadata": {
      "needs_background": "light"
     },
     "output_type": "display_data"
    }
   ],
   "source": [
    "Umat = np.sum(Uk_mats, axis=0)\n",
    "\n",
    "fig, ax = plt.subplots(1, 1, figsize=(6, 6))\n",
    "im = ax.matshow(Umat)\n",
    "ax.set_title(r'$U_{ij}$')\n",
    "\n",
    "divider = make_axes_locatable(ax)\n",
    "cax = divider.append_axes('right', size='5%', pad=0.1)\n",
    "fig.colorbar(im, cax=cax, orientation='vertical')\n",
    "ax.set_aspect('equal')"
   ]
  },
  {
   "cell_type": "markdown",
   "id": "e83c04e1",
   "metadata": {},
   "source": [
    "# Check coulomb ERI"
   ]
  },
  {
   "cell_type": "code",
   "execution_count": 15,
   "id": "f1c23305",
   "metadata": {},
   "outputs": [
    {
     "name": "stdout",
     "output_type": "stream",
     "text": [
      "(25, 25, 25, 25)\n",
      "CPU times: user 5.53 ms, sys: 71.5 ms, total: 77.1 ms\n",
      "Wall time: 234 ms\n"
     ]
    }
   ],
   "source": [
    "%%time\n",
    "%autoreload\n",
    "\n",
    "eri = EH.build_coulomb_eri(coulomb_matrix=Umat)\n",
    "print(eri.shape)"
   ]
  },
  {
   "cell_type": "markdown",
   "id": "3eaa7b8d",
   "metadata": {},
   "source": [
    "# Check hopping matrix eigenspectrum vs continuum model\n",
    "\n",
    "For the hopping matrix, if we extracted the hopping parameters $t_k$ and constructed the matrix correctly, we should be able to recover the continuum model eigenspectrum (up to small errors) with a suitable truncation in $k$ (say $k = 3$?). We can exactly diagonalize both matrices easily.\n",
    "\n",
    "For this purpose, let's use the parameters from MDHPM's paper:\n",
    "\n",
    "\\begin{align}\n",
    "    m^* &= 0.35 \\\\\n",
    "    \\epsilon &= 10 \\\\\n",
    "    V_m &= 11 \\ \\text{meV} \\\\\n",
    "    \\phi &= -94^{\\circ}\n",
    "\\end{align}\n",
    "\n",
    "\n",
    "## Small $\\theta$ regime\n",
    "\n",
    "In this regime, the offsite (*i.e.* off-diagonal) matrix elements are $\\approx 0$, so the eigenspectrum should be similar to the onsite matrix elements. Let's take $L_m = 250.904 \\ \\mathring A = 2.514^{\\circ}$."
   ]
  },
  {
   "cell_type": "markdown",
   "id": "e26a6698",
   "metadata": {},
   "source": [
    "## Continuum model solution"
   ]
  },
  {
   "cell_type": "code",
   "execution_count": 16,
   "id": "cad89b4b",
   "metadata": {},
   "outputs": [
    {
     "name": "stdout",
     "output_type": "stream",
     "text": [
      "\n",
      "# Building basis...\n",
      "ncorner = 0\n",
      "nedge = 6\n",
      "nouter = 6\n",
      "\n",
      "ncorner_unique = 0\n",
      "nedge_unique = 6\n",
      "nouter_unique = 6\n",
      "\n",
      "nkpt_unique = 25\n",
      "ninner = 19\n",
      "CPU times: user 343 ms, sys: 137 ms, total: 481 ms\n",
      "Wall time: 5.66 s\n"
     ]
    }
   ],
   "source": [
    "%%time \n",
    "%autoreload\n",
    "\n",
    "path = '/burg/ccce/users/su2254/qchem/libpbc-stable/build/libgscf/tests/rescaled_cm_kpt/'\n",
    "filetag = 'mdhpm_check/nkpt=25/ghf_Lm=250.904_V0=0.011_eps=10_ecut=0.0043_nbsf=127_nkpt=25_tri_2d'\n",
    "\n",
    "kpts_fname = path + filetag + '.kpts.csv'\n",
    "mrv_fname = path + filetag + '.moire_recip_vecs.csv'\n",
    "basis_fname = path + filetag + '.basis.csv'\n",
    "\n",
    "kpts = np.loadtxt(kpts_fname, delimiter=',', skiprows=1).T\n",
    "moire_recip_vecs = np.loadtxt(mrv_fname, delimiter=',', skiprows=1)\n",
    "basis = np.loadtxt(basis_fname, delimiter=',', skiprows=1).T\n",
    "nkpt = kpts.shape[0]\n",
    "basis_obj = wbasis.Basis(moire_recip_vecs, basis, kpts)\n",
    "basis_obj.build()\n",
    "\n",
    "rcm_kpts = []\n",
    "for i in range(nkpt):\n",
    "    rcm_kpts_fname = path + filetag + f'.rcm_kpt{i}.csv'\n",
    "    rcm_kpt = np.loadtxt(rcm_kpts_fname, delimiter=',', skiprows=1, dtype=np.complex128)\n",
    "    rcm_kpts.append(rcm_kpt)"
   ]
  },
  {
   "cell_type": "code",
   "execution_count": 17,
   "id": "122228ad",
   "metadata": {},
   "outputs": [
    {
     "name": "stdout",
     "output_type": "stream",
     "text": [
      "meff =\t0.34999999403954\n",
      "eps =\t10.0    \n",
      "ecut =\t0.00430000014603\n",
      "Lm =\t250.90400695800778 \n",
      "V0 =\t0.0109999999404\n",
      "phi =\t-1.64060949687467\n",
      "alpha =\t285.7142905799711\n",
      "beta =\t0.03499999940395\n"
     ]
    }
   ],
   "source": [
    "meff, eps, ecut, Lm, V0, phi, alpha, beta = None, None, None, None, None, None, None, None\n",
    "\n",
    "with open(kpts_fname, 'r') as f: \n",
    "    header = f.readline().split(',')\n",
    "    meff, eps, ecut, Lm, V0, phi, alpha, beta = header\n",
    "    meff = float(meff)\n",
    "    eps = float(eps)\n",
    "    ecut = float(ecut)\n",
    "    Lm = float(Lm)\n",
    "    V0 = float(V0)\n",
    "    phi = float(phi)\n",
    "    alpha = float(alpha)\n",
    "    beta = float(beta)\n",
    "    \n",
    "    print(f'meff =\\t{meff:<8}\\neps =\\t{eps:<8}\\necut =\\t{ecut:<8}\\nLm =\\t{Lm:<8}',\n",
    "          f'\\nV0 =\\t{V0:<8}\\nphi =\\t{phi:<8}\\nalpha =\\t{alpha:<8}\\nbeta =\\t{beta:<8}')\n",
    "    \n",
    "Lm *= ANGSTROM_TO_BOHR"
   ]
  },
  {
   "cell_type": "code",
   "execution_count": 18,
   "id": "b2919787",
   "metadata": {},
   "outputs": [
    {
     "name": "stdout",
     "output_type": "stream",
     "text": [
      "CPU times: user 4.08 s, sys: 2.86 s, total: 6.94 s\n",
      "Wall time: 1.24 s\n"
     ]
    }
   ],
   "source": [
    "%%time\n",
    "\n",
    "bloch_energy = []\n",
    "bloch_coeff_pw = []\n",
    "\n",
    "for i in range(nkpt):\n",
    "    h1 = rcm_kpts[i]\n",
    "    e, c = scipy.linalg.eigh(h1)\n",
    "    e *= HARTREE_TO_EV * 1000. / alpha\n",
    "    bloch_energy.append(e)\n",
    "    bloch_coeff_pw.append(c)\n",
    "\n",
    "bloch_energy = np.array(bloch_energy)[:, 0] # Lowest band.\n",
    "bloch_coeff_pw = np.array(bloch_coeff_pw)[:, :, 0].T"
   ]
  },
  {
   "cell_type": "code",
   "execution_count": 19,
   "id": "238a1be1",
   "metadata": {},
   "outputs": [
    {
     "data": {
      "text/plain": [
       "array([-37.31732159, -37.31688074, -37.31688074, -37.31688074,\n",
       "       -37.31688074, -37.31688074, -37.31688074, -37.31630353,\n",
       "       -37.31630353, -37.31630353, -37.31630353, -37.31630353,\n",
       "       -37.31630353, -37.31616724, -37.31616724, -37.31616724,\n",
       "       -37.31616724, -37.31616724, -37.31616724, -37.3159467 ,\n",
       "       -37.3159467 , -37.3159467 , -37.3159467 , -37.3159467 ,\n",
       "       -37.3159467 ])"
      ]
     },
     "execution_count": 19,
     "metadata": {},
     "output_type": "execute_result"
    }
   ],
   "source": [
    "bloch_energy"
   ]
  },
  {
   "cell_type": "code",
   "execution_count": 20,
   "id": "fd40d0c6",
   "metadata": {},
   "outputs": [
    {
     "name": "stderr",
     "output_type": "stream",
     "text": [
      "/local/ipykernel_3190362/1885969814.py:4: UserWarning: cmr10 font should ideally be used with mathtext, set axes.formatter.use_mathtext to True\n",
      "  fig, ax = plt.subplots(1, 1, figsize=(6, 6))\n"
     ]
    },
    {
     "data": {
      "text/plain": [
       "Text(0, 0.5, '$E$ (meV)')"
      ]
     },
     "execution_count": 20,
     "metadata": {},
     "output_type": "execute_result"
    },
    {
     "data": {
      "image/png": "[encoded data removed]",
      "text/plain": [
       "<Figure size 432x432 with 1 Axes>"
      ]
     },
     "metadata": {
      "needs_background": "light"
     },
     "output_type": "display_data"
    }
   ],
   "source": [
    "xticks = np.array([i for i in range(basis_obj.nkpt)])\n",
    "dx = 0.2\n",
    "\n",
    "fig, ax = plt.subplots(1, 1, figsize=(6, 6))\n",
    "\n",
    "for i in range(basis_obj.nkpt):\n",
    "    x = xticks[i]\n",
    "    ax.hlines(bloch_energy[i], x-dx, x+dx)\n",
    "\n",
    "# ax.axhline(0., color='r', ls='--')\n",
    "ax.grid()\n",
    "ax.set_xlabel('kpt idx')\n",
    "ax.set_ylabel('$E$ (meV)')"
   ]
  },
  {
   "cell_type": "markdown",
   "id": "88bc18d7",
   "metadata": {},
   "source": [
    "## Construct hopping matrix\n",
    "\n",
    "The $t_k$ and $U_k$ parameters were extracted in \n",
    "\n",
    "```$SCRATCHDIR/qchem_output/results/nu=1-2/ghf/pinball/wannier_lo_from_cm_grid_tests/mdhpm_check.ipnyb```"
   ]
  },
  {
   "cell_type": "code",
   "execution_count": 21,
   "id": "a17afdd0",
   "metadata": {},
   "outputs": [
    {
     "name": "stdout",
     "output_type": "stream",
     "text": [
      "\n",
      "# (nup, ndown) = (25, 0)\n",
      "# L = 250.904 A\n",
      "# (Nx, Ny) = (5, 5)\n",
      "# nsite = 25\n",
      "# furthest neighbour = 4\n",
      "\n",
      "# Hopping terms:\n",
      "#\tt0 = -3.732e+01 meV\n",
      "#\tt1 = -1.595e-04 meV\n",
      "#\tt2 = 1.210e-08 meV\n",
      "#\tt3 = 6.415e-09 meV\n",
      "#\tt4 = -1.361e-09 meV\n",
      "\n",
      "# Coulomb terms:\n",
      "#\tU0 = 5.576e+01 meV\n",
      "#\tU1 = 5.714e+00 meV\n",
      "#\tU2 = 3.265e+00 meV\n",
      "#\tU3 = 2.993e+00 meV\n",
      "#\tU4 = 2.177e+00 meV\n"
     ]
    }
   ],
   "source": [
    "%autoreload\n",
    "\n",
    "nelec = (25, 0)\n",
    "N_arr = (5, 5)\n",
    "\n",
    "t_arr = np.array([-37.31636443674133, # meV,\n",
    "                   -0.0001595430786988522,\n",
    "                    1.2102654785638525e-08, \n",
    "                    6.41465517952158e-09,\n",
    "                   -1.3605693122993998e-09]) * EV_TO_HARTREE/1000.\n",
    "\n",
    "U_arr = np.array([55.75538784308023, # meV\n",
    "                   5.714391111657481, \n",
    "                   3.2653663495185596, \n",
    "                   2.99325248705868,\n",
    "                   2.17691089967904]) * EV_TO_HARTREE/1000.\n",
    "\n",
    "L = 250.904 # Angstrom.\n",
    "direct_vecs = basis_obj.direct_vecs\n",
    "np.testing.assert_allclose(L, scipy.linalg.norm(direct_vecs[:, 0]) * BOHR_TO_ANGSTROM)\n",
    "\n",
    "EH = eh.ExtendedHubbard(nelec, N_arr, t_arr, U_arr, direct_vecs, verbose=True)"
   ]
  },
  {
   "cell_type": "code",
   "execution_count": 22,
   "id": "1df15fe9",
   "metadata": {},
   "outputs": [
    {
     "name": "stdout",
     "output_type": "stream",
     "text": [
      "\n",
      "# self.knn_shells:\n",
      "{0: array([[0, 0],\n",
      "       [0, 0],\n",
      "       [0, 0],\n",
      "       [0, 0],\n",
      "       [0, 0],\n",
      "       [0, 0]]),\n",
      " 1: array([[ 1,  0],\n",
      "       [ 0,  1],\n",
      "       [-1,  1],\n",
      "       [-1,  0],\n",
      "       [ 0, -1],\n",
      "       [ 1, -1]]),\n",
      " 2: array([[ 1,  1],\n",
      "       [-1,  2],\n",
      "       [-2,  1],\n",
      "       [-1, -1],\n",
      "       [ 1, -2],\n",
      "       [ 2, -1]]),\n",
      " 3: array([[ 2,  0],\n",
      "       [ 0,  2],\n",
      "       [-2,  2],\n",
      "       [-2,  0],\n",
      "       [ 0, -2],\n",
      "       [ 2, -2]]),\n",
      " 4: array([[ 2,  1],\n",
      "       [-1,  3],\n",
      "       [-3,  2],\n",
      "       [-2, -1],\n",
      "       [ 1, -3],\n",
      "       [ 3, -2],\n",
      "       [ 1,  2],\n",
      "       [-2,  3],\n",
      "       [-3,  1],\n",
      "       [-1, -2],\n",
      "       [ 2, -3],\n",
      "       [ 3, -1]])}\n"
     ]
    }
   ],
   "source": [
    "%autoreload\n",
    "\n",
    "t0_mat = EH.build_hopping_matrix(0)\n",
    "t1_mat = EH.build_hopping_matrix(1)\n",
    "t2_mat = EH.build_hopping_matrix(2)\n",
    "t3_mat = EH.build_hopping_matrix(3)\n",
    "t4_mat = EH.build_hopping_matrix(4)\n",
    "tk_mats = np.array([t0_mat, t1_mat, t2_mat, t3_mat, t4_mat])\n",
    "t_mat = np.sum(tk_mats, axis=0)"
   ]
  },
  {
   "cell_type": "markdown",
   "id": "a454edbc",
   "metadata": {},
   "source": [
    "Let's see what the hopping matrices look like (in meV)."
   ]
  },
  {
   "cell_type": "code",
   "execution_count": 23,
   "id": "9510f955",
   "metadata": {},
   "outputs": [
    {
     "name": "stderr",
     "output_type": "stream",
     "text": [
      "/local/ipykernel_3190362/2952385655.py:1: UserWarning: cmr10 font should ideally be used with mathtext, set axes.formatter.use_mathtext to True\n",
      "  fig, axs = plt.subplots(1, 5, figsize=(16, 10))\n",
      "/local/ipykernel_3190362/2952385655.py:14: UserWarning: cmr10 font should ideally be used with mathtext, set axes.formatter.use_mathtext to True\n",
      "  cax = divider.append_axes('right', size='5%', pad=0.1)\n",
      "/local/ipykernel_3190362/2952385655.py:15: UserWarning: cmr10 font should ideally be used with mathtext, set axes.formatter.use_mathtext to True\n",
      "  fig.colorbar(im, cax=cax, orientation='vertical')\n"
     ]
    },
    {
     "data": {
      "image/png": "[encoded data removed]",
      "text/plain": [
       "<Figure size 1152x720 with 10 Axes>"
      ]
     },
     "metadata": {
      "needs_background": "light"
     },
     "output_type": "display_data"
    }
   ],
   "source": [
    "fig, axs = plt.subplots(1, 5, figsize=(16, 10))\n",
    "axs = axs.flatten()\n",
    "\n",
    "vmin = np.amin(tk_mats) * HARTREE_TO_EV * 1000.\n",
    "vmax = np.amax(tk_mats) * HARTREE_TO_EV * 1000.\n",
    "\n",
    "for k, tk_mat in enumerate(tk_mats):\n",
    "    ax = axs[k]\n",
    "    #im = ax.matshow(tk_mat * HARTREE_TO_EV * 1000., vmin=vmin, vmax=vmax, cmap='bone')\n",
    "    im = ax.matshow(tk_mat * HARTREE_TO_EV * 1000., cmap='bone')\n",
    "    ax.set_title(rf'$k$ = {k}')\n",
    "    \n",
    "    divider = make_axes_locatable(ax)\n",
    "    cax = divider.append_axes('right', size='5%', pad=0.1)\n",
    "    fig.colorbar(im, cax=cax, orientation='vertical')\n",
    "    ax.set_aspect('equal')"
   ]
  },
  {
   "cell_type": "code",
   "execution_count": 24,
   "id": "616485d9",
   "metadata": {},
   "outputs": [
    {
     "name": "stderr",
     "output_type": "stream",
     "text": [
      "/local/ipykernel_3190362/1043840706.py:1: UserWarning: cmr10 font should ideally be used with mathtext, set axes.formatter.use_mathtext to True\n",
      "  fig, ax = plt.subplots(1, 1, figsize=(6, 6))\n",
      "/local/ipykernel_3190362/1043840706.py:7: UserWarning: cmr10 font should ideally be used with mathtext, set axes.formatter.use_mathtext to True\n",
      "  cax = divider.append_axes('right', size='5%', pad=0.1)\n",
      "/local/ipykernel_3190362/1043840706.py:8: UserWarning: cmr10 font should ideally be used with mathtext, set axes.formatter.use_mathtext to True\n",
      "  fig.colorbar(im, cax=cax, orientation='vertical')\n"
     ]
    },
    {
     "data": {
      "image/png": "[encoded data removed]",
      "text/plain": [
       "<Figure size 432x432 with 2 Axes>"
      ]
     },
     "metadata": {
      "needs_background": "light"
     },
     "output_type": "display_data"
    }
   ],
   "source": [
    "fig, ax = plt.subplots(1, 1, figsize=(6, 6))\n",
    "\n",
    "im = ax.matshow(t_mat * HARTREE_TO_EV * 1000., cmap='bone')\n",
    "ax.set_title(rf'Total $t$ matrix')\n",
    "\n",
    "divider = make_axes_locatable(ax)\n",
    "cax = divider.append_axes('right', size='5%', pad=0.1)\n",
    "fig.colorbar(im, cax=cax, orientation='vertical')\n",
    "ax.set_aspect('equal')"
   ]
  },
  {
   "cell_type": "code",
   "execution_count": null,
   "id": "2c12139d",
   "metadata": {},
   "outputs": [],
   "source": []
  },
  {
   "cell_type": "markdown",
   "id": "50a947f0",
   "metadata": {},
   "source": [
    "## Diagonalize"
   ]
  },
  {
   "cell_type": "code",
   "execution_count": 25,
   "id": "7208cae3",
   "metadata": {},
   "outputs": [],
   "source": [
    "t_e, t_c = scipy.linalg.eigh(t_mat)\n",
    "t_e *= HARTREE_TO_EV * 1000."
   ]
  },
  {
   "cell_type": "code",
   "execution_count": 26,
   "id": "9e607a61",
   "metadata": {},
   "outputs": [
    {
     "name": "stderr",
     "output_type": "stream",
     "text": [
      "/local/ipykernel_3190362/1554109727.py:4: UserWarning: cmr10 font should ideally be used with mathtext, set axes.formatter.use_mathtext to True\n",
      "  fig, ax = plt.subplots(1, 1, figsize=(6, 6))\n"
     ]
    },
    {
     "data": {
      "text/plain": [
       "Text(0, 0.5, '$E$ (meV)')"
      ]
     },
     "execution_count": 26,
     "metadata": {},
     "output_type": "execute_result"
    },
    {
     "data": {
      "image/png": "[encoded data removed]",
      "text/plain": [
       "<Figure size 432x432 with 1 Axes>"
      ]
     },
     "metadata": {
      "needs_background": "light"
     },
     "output_type": "display_data"
    }
   ],
   "source": [
    "xticks = np.array([i for i in range(basis_obj.nkpt)])\n",
    "dx = 0.2\n",
    "\n",
    "fig, ax = plt.subplots(1, 1, figsize=(6, 6))\n",
    "\n",
    "for i in range(basis_obj.nkpt):\n",
    "    x = xticks[i]\n",
    "    ax.hlines(t_e[i], x-dx, x+dx)\n",
    "\n",
    "# ax.axhline(0., color='r', ls='--')\n",
    "ax.grid()\n",
    "ax.set_xlabel('kpt idx')\n",
    "ax.set_ylabel('$E$ (meV)')"
   ]
  },
  {
   "cell_type": "markdown",
   "id": "0f2dc570",
   "metadata": {},
   "source": [
    "## Compare"
   ]
  },
  {
   "cell_type": "code",
   "execution_count": 27,
   "id": "5cc9d167",
   "metadata": {},
   "outputs": [
    {
     "name": "stdout",
     "output_type": "stream",
     "text": [
      "max |diff| = 1.1810179501026141e-08\n",
      "max |pdiff| = 3.164914881248497e-08\n"
     ]
    }
   ],
   "source": [
    "diff = t_e - bloch_energy\n",
    "pdiff = diff/bloch_energy * 100.\n",
    "\n",
    "print(f'max |diff| = {np.amax(np.absolute(diff))}')\n",
    "print(f'max |pdiff| = {np.amax(np.absolute(pdiff))}')"
   ]
  },
  {
   "cell_type": "code",
   "execution_count": 28,
   "id": "1b29b52a",
   "metadata": {},
   "outputs": [
    {
     "name": "stderr",
     "output_type": "stream",
     "text": [
      "/local/ipykernel_3190362/4024461969.py:4: UserWarning: cmr10 font should ideally be used with mathtext, set axes.formatter.use_mathtext to True\n",
      "  fig, axs = plt.subplots(1, 3, figsize=(14, 6))\n"
     ]
    },
    {
     "data": {
      "text/plain": [
       "Text(0, 0.5, '$E$ (meV)')"
      ]
     },
     "execution_count": 28,
     "metadata": {},
     "output_type": "execute_result"
    },
    {
     "data": {
      "image/png": "[encoded data removed]",
      "text/plain": [
       "<Figure size 1008x432 with 3 Axes>"
      ]
     },
     "metadata": {
      "needs_background": "light"
     },
     "output_type": "display_data"
    }
   ],
   "source": [
    "xticks = np.array([i for i in range(basis_obj.nkpt)])\n",
    "dx = 0.2\n",
    "\n",
    "fig, axs = plt.subplots(1, 3, figsize=(14, 6))\n",
    "axs = axs.flatten()\n",
    "\n",
    "for i in range(basis_obj.nkpt):\n",
    "    label1, label2 = None, None\n",
    "    labeld, labelpd = None, None\n",
    "    \n",
    "    if i == 0:\n",
    "        label1 = 'CM'\n",
    "        label2 = '$t$ matrix'\n",
    "        labeld = r'$\\Delta E$ (meV)'\n",
    "        labelpd = r'% $\\Delta E$'\n",
    "        \n",
    "    x = xticks[i]\n",
    "    axs[0].hlines(bloch_energy[i], x-dx, x+dx, color='b', label=label1)\n",
    "    axs[0].hlines(t_e[i], x-dx, x+dx, color='r', label=label2)\n",
    "    \n",
    "    axs[1].hlines(diff[i], x-dx, x+dx, label=labeld)\n",
    "    axs[2].hlines(pdiff[i], x-dx, x+dx, label=labelpd)\n",
    "\n",
    "for ax in axs:\n",
    "    ax.set_xlabel('kpt idx')\n",
    "    ax.legend()\n",
    "    ax.grid()\n",
    "    \n",
    "axs[0].set_ylabel('$E$ (meV)')"
   ]
  },
  {
   "cell_type": "markdown",
   "id": "6d253f65",
   "metadata": {},
   "source": [
    "The eigenspectrums agree! So we know that the hopping matrix faithfully represents the non-interacting continuum model in the small $\\theta$ regime."
   ]
  },
  {
   "cell_type": "markdown",
   "id": "c99fb2ee",
   "metadata": {},
   "source": [
    "## Large $\\theta$ regime\n",
    "\n",
    "In this regime, the offsite (*i.e.* off-diagonal) matrix elements are not $\\approx 0$, though they're still $\\mathcal{O}(0.1)$ of the magnitude of the onsite matrix elements. The eigenspectrum should not be augmented too far from the onsite matrix elements. Let's take $L_m = 75.658 \\ \\mathring A \\implies \\theta = 0.758^{\\circ}$."
   ]
  },
  {
   "cell_type": "markdown",
   "id": "c65a11c6",
   "metadata": {},
   "source": [
    "## Continuum model solution"
   ]
  },
  {
   "cell_type": "code",
   "execution_count": 30,
   "id": "193b73c6",
   "metadata": {},
   "outputs": [
    {
     "name": "stdout",
     "output_type": "stream",
     "text": [
      "\n",
      "# Building basis...\n",
      "ncorner = 0\n",
      "nedge = 6\n",
      "nouter = 6\n",
      "\n",
      "ncorner_unique = 0\n",
      "nedge_unique = 6\n",
      "nouter_unique = 6\n",
      "\n",
      "nkpt_unique = 25\n",
      "ninner = 19\n",
      "CPU times: user 332 ms, sys: 150 ms, total: 482 ms\n",
      "Wall time: 4.47 s\n"
     ]
    }
   ],
   "source": [
    "%%time \n",
    "%autoreload\n",
    "\n",
    "path = '/burg/ccce/users/su2254/qchem/libpbc-stable/build/libgscf/tests/rescaled_cm_kpt/'\n",
    "filetag = 'mdhpm_check/nkpt=25/ghf_Lm=63.407_V0=0.011_eps=10_ecut=0.067_nbsf=127_nkpt=25_tri_2d'\n",
    "#filetag = 'mdhpm_check/nkpt=25/ghf_Lm=75.658_V0=0.011_eps=10_ecut=0.047_nbsf=127_nkpt=25_tri_2d'\n",
    "\n",
    "kpts_fname = path + filetag + '.kpts.csv'\n",
    "mrv_fname = path + filetag + '.moire_recip_vecs.csv'\n",
    "basis_fname = path + filetag + '.basis.csv'\n",
    "\n",
    "kpts = np.loadtxt(kpts_fname, delimiter=',', skiprows=1).T\n",
    "moire_recip_vecs = np.loadtxt(mrv_fname, delimiter=',', skiprows=1)\n",
    "basis = np.loadtxt(basis_fname, delimiter=',', skiprows=1).T\n",
    "nkpt = kpts.shape[0]\n",
    "basis_obj = wbasis.Basis(moire_recip_vecs, basis, kpts)\n",
    "basis_obj.build()\n",
    "\n",
    "rcm_kpts = []\n",
    "for i in range(nkpt):\n",
    "    rcm_kpts_fname = path + filetag + f'.rcm_kpt{i}.csv'\n",
    "    rcm_kpt = np.loadtxt(rcm_kpts_fname, delimiter=',', skiprows=1, dtype=np.complex128)\n",
    "    rcm_kpts.append(rcm_kpt)"
   ]
  },
  {
   "cell_type": "code",
   "execution_count": 31,
   "id": "084491a0",
   "metadata": {},
   "outputs": [
    {
     "name": "stdout",
     "output_type": "stream",
     "text": [
      "meff =\t0.34999999403954\n",
      "eps =\t10.0    \n",
      "ecut =\t0.06700000166893\n",
      "Lm =\t63.40700149536133 \n",
      "V0 =\t0.0109999999404\n",
      "phi =\t-1.64060949687467\n",
      "alpha =\t285.7142905799711\n",
      "beta =\t0.03499999940395\n"
     ]
    }
   ],
   "source": [
    "meff, eps, ecut, Lm, V0, phi, alpha, beta = None, None, None, None, None, None, None, None\n",
    "\n",
    "with open(kpts_fname, 'r') as f: \n",
    "    header = f.readline().split(',')\n",
    "    meff, eps, ecut, Lm, V0, phi, alpha, beta = header\n",
    "    meff = float(meff)\n",
    "    eps = float(eps)\n",
    "    ecut = float(ecut)\n",
    "    Lm = float(Lm)\n",
    "    V0 = float(V0)\n",
    "    phi = float(phi)\n",
    "    alpha = float(alpha)\n",
    "    beta = float(beta)\n",
    "    \n",
    "    print(f'meff =\\t{meff:<8}\\neps =\\t{eps:<8}\\necut =\\t{ecut:<8}\\nLm =\\t{Lm:<8}',\n",
    "          f'\\nV0 =\\t{V0:<8}\\nphi =\\t{phi:<8}\\nalpha =\\t{alpha:<8}\\nbeta =\\t{beta:<8}')\n",
    "    \n",
    "Lm *= ANGSTROM_TO_BOHR"
   ]
  },
  {
   "cell_type": "code",
   "execution_count": 32,
   "id": "9b979b7c",
   "metadata": {},
   "outputs": [
    {
     "name": "stdout",
     "output_type": "stream",
     "text": [
      "CPU times: user 3.34 s, sys: 2.4 s, total: 5.74 s\n",
      "Wall time: 204 ms\n"
     ]
    }
   ],
   "source": [
    "%%time\n",
    "\n",
    "bloch_energy = []\n",
    "bloch_coeff_pw = []\n",
    "\n",
    "for i in range(nkpt):\n",
    "    h1 = rcm_kpts[i]\n",
    "    e, c = scipy.linalg.eigh(h1)\n",
    "    e *= HARTREE_TO_EV * 1000. / alpha\n",
    "    bloch_energy.append(e)\n",
    "    bloch_coeff_pw.append(c)\n",
    "\n",
    "bloch_energy = np.array(bloch_energy)[:, 0] # Lowest band.\n",
    "bloch_coeff_pw = np.array(bloch_coeff_pw)[:, :, 0].T"
   ]
  },
  {
   "cell_type": "code",
   "execution_count": 33,
   "id": "b06e8c26",
   "metadata": {},
   "outputs": [
    {
     "data": {
      "text/plain": [
       "array([-5.23104478e+00, -2.14616404e-02, -2.14616404e-02, -2.14616404e-02,\n",
       "       -2.14616404e-02, -2.14616404e-02, -2.14616404e-02,  9.88538078e+00,\n",
       "        9.88538078e+00,  9.88538078e+00,  9.88538078e+00,  9.88538078e+00,\n",
       "        9.88538078e+00,  1.40761179e+01,  1.40761179e+01,  1.40761179e+01,\n",
       "        1.40761179e+01,  1.40761179e+01,  1.40761179e+01,  2.19533540e+01,\n",
       "        2.19533540e+01,  2.19533540e+01,  2.19533540e+01,  2.19533540e+01,\n",
       "        2.19533540e+01])"
      ]
     },
     "execution_count": 33,
     "metadata": {},
     "output_type": "execute_result"
    }
   ],
   "source": [
    "bloch_energy"
   ]
  },
  {
   "cell_type": "code",
   "execution_count": 34,
   "id": "7dd9e756",
   "metadata": {},
   "outputs": [
    {
     "name": "stderr",
     "output_type": "stream",
     "text": [
      "/local/ipykernel_3190362/1885969814.py:4: UserWarning: cmr10 font should ideally be used with mathtext, set axes.formatter.use_mathtext to True\n",
      "  fig, ax = plt.subplots(1, 1, figsize=(6, 6))\n"
     ]
    },
    {
     "data": {
      "text/plain": [
       "Text(0, 0.5, '$E$ (meV)')"
      ]
     },
     "execution_count": 34,
     "metadata": {},
     "output_type": "execute_result"
    },
    {
     "data": {
      "image/png": "[encoded data removed]",
      "text/plain": [
       "<Figure size 432x432 with 1 Axes>"
      ]
     },
     "metadata": {
      "needs_background": "light"
     },
     "output_type": "display_data"
    }
   ],
   "source": [
    "xticks = np.array([i for i in range(basis_obj.nkpt)])\n",
    "dx = 0.2\n",
    "\n",
    "fig, ax = plt.subplots(1, 1, figsize=(6, 6))\n",
    "\n",
    "for i in range(basis_obj.nkpt):\n",
    "    x = xticks[i]\n",
    "    ax.hlines(bloch_energy[i], x-dx, x+dx)\n",
    "\n",
    "# ax.axhline(0., color='r', ls='--')\n",
    "ax.grid()\n",
    "ax.set_xlabel('kpt idx')\n",
    "ax.set_ylabel('$E$ (meV)')"
   ]
  },
  {
   "cell_type": "code",
   "execution_count": 35,
   "id": "8f7aaf54",
   "metadata": {},
   "outputs": [
    {
     "name": "stderr",
     "output_type": "stream",
     "text": [
      "/local/ipykernel_3190362/2631617434.py:1: UserWarning: cmr10 font should ideally be used with mathtext, set axes.formatter.use_mathtext to True\n",
      "  fig, ax = plt.subplots(1, 1, figsize=(6, 6))\n",
      "/local/ipykernel_3190362/2631617434.py:5: UserWarning: cmr10 font should ideally be used with mathtext, set axes.formatter.use_mathtext to True\n",
      "  cax = divider.append_axes('right', size='5%', pad=0.1)\n",
      "/local/ipykernel_3190362/2631617434.py:6: UserWarning: cmr10 font should ideally be used with mathtext, set axes.formatter.use_mathtext to True\n",
      "  fig.colorbar(im, cax=cax, orientation='vertical')\n"
     ]
    },
    {
     "data": {
      "image/png": "[encoded data removed]",
      "text/plain": [
       "<Figure size 432x432 with 2 Axes>"
      ]
     },
     "metadata": {
      "needs_background": "light"
     },
     "output_type": "display_data"
    }
   ],
   "source": [
    "fig, ax = plt.subplots(1, 1, figsize=(6, 6))\n",
    "im = ax.scatter(basis_obj.kpts[:, 0], basis_obj.kpts[:, 1], s=50, c=bloch_energy)\n",
    "\n",
    "divider = make_axes_locatable(ax)\n",
    "cax = divider.append_axes('right', size='5%', pad=0.1)\n",
    "fig.colorbar(im, cax=cax, orientation='vertical')\n",
    "        \n",
    "ax.grid()\n",
    "ax.set_aspect('equal')"
   ]
  },
  {
   "cell_type": "markdown",
   "id": "032bae3b",
   "metadata": {},
   "source": [
    "## Construct hopping matrix\n",
    "\n",
    "The $t_k$ and $U_k$ parameters were extracted in \n",
    "\n",
    "```$SCRATCHDIR/qchem_output/results/nu=1-2/ghf/pinball/wannier_lo_from_cm_grid_tests/mdhpm_check.ipnyb```"
   ]
  },
  {
   "cell_type": "code",
   "execution_count": 36,
   "id": "8228d7ff",
   "metadata": {},
   "outputs": [
    {
     "name": "stdout",
     "output_type": "stream",
     "text": [
      "\n",
      "# (nup, ndown) = (25, 0)\n",
      "# L = 63.407 A\n",
      "# (Nx, Ny) = (5, 5)\n",
      "# nsite = 25\n",
      "# furthest neighbour = 4\n",
      "\n",
      "# Hopping terms:\n",
      "#\tt0 = 1.078e+01 meV\n",
      "#\tt1 = -3.341e+00 meV\n",
      "#\tt2 = 5.934e-01 meV\n",
      "#\tt3 = 3.052e-01 meV\n",
      "#\tt4 = -1.437e-01 meV\n",
      "\n",
      "# Coulomb terms:\n",
      "#\tU0 = 8.116e+01 meV\n",
      "#\tU1 = 2.506e+01 meV\n",
      "#\tU2 = 2.387e+01 meV\n",
      "#\tU3 = 3.197e+01 meV\n",
      "#\tU4 = 1.026e+01 meV\n"
     ]
    }
   ],
   "source": [
    "%autoreload\n",
    "\n",
    "nelec = (25, 0)\n",
    "N_arr = (5, 5)\n",
    "\n",
    "# L = 75.658 # Angstrom.\n",
    "# t_arr = np.array([ 2.006412417901089, # meV\n",
    "#                   -1.8945988006864796,\n",
    "#                    0.25547249470907696, \n",
    "#                    0.13914818457057596,\n",
    "#                   -0.04751381116060845]) * EV_TO_HARTREE/1000.\n",
    "\n",
    "# U_arr = np.array([78.94680388185203, # meV\n",
    "#                   19.85982778607518, \n",
    "#                   20.174992620542774, \n",
    "#                   11.179089228335377,\n",
    "#                    9.5239851860958]) * EV_TO_HARTREE/1000.\n",
    "\n",
    "L = 63.407 # Angstrom.\n",
    "t_arr = np.array([10.783250788724702, # meV\n",
    "                  -3.3408370897902318,\n",
    "                   0.5934317829282448, \n",
    "                   0.30517946077351354,\n",
    "                  -0.14369105535439888]) * EV_TO_HARTREE/1000.\n",
    "\n",
    "U_arr = np.array([81.15724858058178, # meV\n",
    "                  25.057668468396148, \n",
    "                  23.869374908831823, \n",
    "                  31.972628276889345,\n",
    "                  10.264472749728327]) * EV_TO_HARTREE/1000.\n",
    "\n",
    "direct_vecs = basis_obj.direct_vecs\n",
    "np.testing.assert_allclose(L, scipy.linalg.norm(direct_vecs[:, 0]) * BOHR_TO_ANGSTROM)\n",
    "\n",
    "EH = eh.ExtendedHubbard(nelec, N_arr, t_arr, U_arr, direct_vecs, verbose=True)"
   ]
  },
  {
   "cell_type": "code",
   "execution_count": 37,
   "id": "8ca89fd5",
   "metadata": {},
   "outputs": [
    {
     "name": "stdout",
     "output_type": "stream",
     "text": [
      "\n",
      "# self.knn_shells:\n",
      "{0: array([[0, 0],\n",
      "       [0, 0],\n",
      "       [0, 0],\n",
      "       [0, 0],\n",
      "       [0, 0],\n",
      "       [0, 0]]),\n",
      " 1: array([[ 1,  0],\n",
      "       [ 0,  1],\n",
      "       [-1,  1],\n",
      "       [-1,  0],\n",
      "       [ 0, -1],\n",
      "       [ 1, -1]]),\n",
      " 2: array([[ 1,  1],\n",
      "       [-1,  2],\n",
      "       [-2,  1],\n",
      "       [-1, -1],\n",
      "       [ 1, -2],\n",
      "       [ 2, -1]]),\n",
      " 3: array([[ 2,  0],\n",
      "       [ 0,  2],\n",
      "       [-2,  2],\n",
      "       [-2,  0],\n",
      "       [ 0, -2],\n",
      "       [ 2, -2]]),\n",
      " 4: array([[ 2,  1],\n",
      "       [-1,  3],\n",
      "       [-3,  2],\n",
      "       [-2, -1],\n",
      "       [ 1, -3],\n",
      "       [ 3, -2],\n",
      "       [ 1,  2],\n",
      "       [-2,  3],\n",
      "       [-3,  1],\n",
      "       [-1, -2],\n",
      "       [ 2, -3],\n",
      "       [ 3, -1]])}\n"
     ]
    }
   ],
   "source": [
    "%autoreload\n",
    "\n",
    "t0_mat = EH.build_hopping_matrix(0)\n",
    "t1_mat = EH.build_hopping_matrix(1)\n",
    "t2_mat = EH.build_hopping_matrix(2)\n",
    "t3_mat = EH.build_hopping_matrix(3)\n",
    "t4_mat = EH.build_hopping_matrix(4)\n",
    "tk_mats = np.array([t0_mat, t1_mat, t2_mat, t3_mat, t4_mat])\n",
    "t_mat = np.sum(tk_mats, axis=0)"
   ]
  },
  {
   "cell_type": "markdown",
   "id": "bb2b0d83",
   "metadata": {},
   "source": [
    "Let's see what the hopping matrices look like (in meV)."
   ]
  },
  {
   "cell_type": "code",
   "execution_count": 38,
   "id": "9d64280c",
   "metadata": {},
   "outputs": [
    {
     "name": "stderr",
     "output_type": "stream",
     "text": [
      "/local/ipykernel_3190362/2952385655.py:1: UserWarning: cmr10 font should ideally be used with mathtext, set axes.formatter.use_mathtext to True\n",
      "  fig, axs = plt.subplots(1, 5, figsize=(16, 10))\n",
      "/local/ipykernel_3190362/2952385655.py:14: UserWarning: cmr10 font should ideally be used with mathtext, set axes.formatter.use_mathtext to True\n",
      "  cax = divider.append_axes('right', size='5%', pad=0.1)\n",
      "/local/ipykernel_3190362/2952385655.py:15: UserWarning: cmr10 font should ideally be used with mathtext, set axes.formatter.use_mathtext to True\n",
      "  fig.colorbar(im, cax=cax, orientation='vertical')\n"
     ]
    },
    {
     "data": {
      "image/png": "[encoded data removed]",
      "text/plain": [
       "<Figure size 1152x720 with 10 Axes>"
      ]
     },
     "metadata": {
      "needs_background": "light"
     },
     "output_type": "display_data"
    }
   ],
   "source": [
    "fig, axs = plt.subplots(1, 5, figsize=(16, 10))\n",
    "axs = axs.flatten()\n",
    "\n",
    "vmin = np.amin(tk_mats) * HARTREE_TO_EV * 1000.\n",
    "vmax = np.amax(tk_mats) * HARTREE_TO_EV * 1000.\n",
    "\n",
    "for k, tk_mat in enumerate(tk_mats):\n",
    "    ax = axs[k]\n",
    "    #im = ax.matshow(tk_mat * HARTREE_TO_EV * 1000., vmin=vmin, vmax=vmax, cmap='bone')\n",
    "    im = ax.matshow(tk_mat * HARTREE_TO_EV * 1000., cmap='bone')\n",
    "    ax.set_title(rf'$k$ = {k}')\n",
    "    \n",
    "    divider = make_axes_locatable(ax)\n",
    "    cax = divider.append_axes('right', size='5%', pad=0.1)\n",
    "    fig.colorbar(im, cax=cax, orientation='vertical')\n",
    "    ax.set_aspect('equal')"
   ]
  },
  {
   "cell_type": "code",
   "execution_count": 39,
   "id": "029e9143",
   "metadata": {},
   "outputs": [
    {
     "name": "stderr",
     "output_type": "stream",
     "text": [
      "/local/ipykernel_3190362/1043840706.py:1: UserWarning: cmr10 font should ideally be used with mathtext, set axes.formatter.use_mathtext to True\n",
      "  fig, ax = plt.subplots(1, 1, figsize=(6, 6))\n",
      "/local/ipykernel_3190362/1043840706.py:7: UserWarning: cmr10 font should ideally be used with mathtext, set axes.formatter.use_mathtext to True\n",
      "  cax = divider.append_axes('right', size='5%', pad=0.1)\n",
      "/local/ipykernel_3190362/1043840706.py:8: UserWarning: cmr10 font should ideally be used with mathtext, set axes.formatter.use_mathtext to True\n",
      "  fig.colorbar(im, cax=cax, orientation='vertical')\n"
     ]
    },
    {
     "data": {
      "image/png": "[encoded data removed]",
      "text/plain": [
       "<Figure size 432x432 with 2 Axes>"
      ]
     },
     "metadata": {
      "needs_background": "light"
     },
     "output_type": "display_data"
    }
   ],
   "source": [
    "fig, ax = plt.subplots(1, 1, figsize=(6, 6))\n",
    "\n",
    "im = ax.matshow(t_mat * HARTREE_TO_EV * 1000., cmap='bone')\n",
    "ax.set_title(rf'Total $t$ matrix')\n",
    "\n",
    "divider = make_axes_locatable(ax)\n",
    "cax = divider.append_axes('right', size='5%', pad=0.1)\n",
    "fig.colorbar(im, cax=cax, orientation='vertical')\n",
    "ax.set_aspect('equal')"
   ]
  },
  {
   "cell_type": "markdown",
   "id": "25f14d3d",
   "metadata": {},
   "source": [
    "## Diagonalize"
   ]
  },
  {
   "cell_type": "code",
   "execution_count": 40,
   "id": "5573bb6f",
   "metadata": {},
   "outputs": [],
   "source": [
    "t_e, t_c = scipy.linalg.eigh(t_mat)\n",
    "t_e *= HARTREE_TO_EV * 1000."
   ]
  },
  {
   "cell_type": "code",
   "execution_count": 41,
   "id": "8ea10f0e",
   "metadata": {},
   "outputs": [
    {
     "name": "stderr",
     "output_type": "stream",
     "text": [
      "/local/ipykernel_3190362/1554109727.py:4: UserWarning: cmr10 font should ideally be used with mathtext, set axes.formatter.use_mathtext to True\n",
      "  fig, ax = plt.subplots(1, 1, figsize=(6, 6))\n"
     ]
    },
    {
     "data": {
      "text/plain": [
       "Text(0, 0.5, '$E$ (meV)')"
      ]
     },
     "execution_count": 41,
     "metadata": {},
     "output_type": "execute_result"
    },
    {
     "data": {
      "image/png": "[encoded data removed]",
      "text/plain": [
       "<Figure size 432x432 with 1 Axes>"
      ]
     },
     "metadata": {
      "needs_background": "light"
     },
     "output_type": "display_data"
    }
   ],
   "source": [
    "xticks = np.array([i for i in range(basis_obj.nkpt)])\n",
    "dx = 0.2\n",
    "\n",
    "fig, ax = plt.subplots(1, 1, figsize=(6, 6))\n",
    "\n",
    "for i in range(basis_obj.nkpt):\n",
    "    x = xticks[i]\n",
    "    ax.hlines(t_e[i], x-dx, x+dx)\n",
    "\n",
    "# ax.axhline(0., color='r', ls='--')\n",
    "ax.grid()\n",
    "ax.set_xlabel('kpt idx')\n",
    "ax.set_ylabel('$E$ (meV)')"
   ]
  },
  {
   "cell_type": "code",
   "execution_count": 42,
   "id": "308e93d9",
   "metadata": {},
   "outputs": [
    {
     "data": {
      "text/plain": [
       "array([-4.73225062, -0.2556304 , -0.2556304 , -0.2556304 , -0.2556304 ,\n",
       "       -0.2556304 , -0.2556304 , 10.06185076, 10.06185076, 10.06185076,\n",
       "       10.06185076, 10.06185076, 10.06185076, 14.40159454, 14.40159454,\n",
       "       14.40159454, 14.40159454, 14.40159454, 14.40159454, 21.51110516,\n",
       "       21.51110516, 21.51110516, 21.51110516, 21.51110516, 21.51110516])"
      ]
     },
     "execution_count": 42,
     "metadata": {},
     "output_type": "execute_result"
    }
   ],
   "source": [
    "t_e"
   ]
  },
  {
   "cell_type": "markdown",
   "id": "8d3365f1",
   "metadata": {},
   "source": [
    "## Compare"
   ]
  },
  {
   "cell_type": "code",
   "execution_count": 43,
   "id": "b3e3559a",
   "metadata": {},
   "outputs": [
    {
     "name": "stdout",
     "output_type": "stream",
     "text": [
      "max |diff| = 0.49879416352247485\n",
      "max |pdiff| = 1091.1037297323887\n"
     ]
    }
   ],
   "source": [
    "diff = t_e - bloch_energy\n",
    "pdiff = diff/bloch_energy * 100.\n",
    "\n",
    "print(f'max |diff| = {np.amax(np.absolute(diff))}')\n",
    "print(f'max |pdiff| = {np.amax(np.absolute(pdiff))}')"
   ]
  },
  {
   "cell_type": "code",
   "execution_count": 44,
   "id": "bcd44379",
   "metadata": {},
   "outputs": [
    {
     "data": {
      "text/plain": [
       "array([1091.10372973, 1091.10372973, 1091.10372973, 1091.10372973,\n",
       "       1091.10372973, 1091.10372973,    9.53526846,    2.31226134,\n",
       "          2.31226134,    2.31226134,    2.31226134,    2.31226134,\n",
       "          2.31226134,    2.01449337,    2.01449337,    2.01449337,\n",
       "          2.01449337,    2.01449337,    2.01449337,    1.78516121,\n",
       "          1.78516121,    1.78516121,    1.78516121,    1.78516121,\n",
       "          1.78516121])"
      ]
     },
     "execution_count": 44,
     "metadata": {},
     "output_type": "execute_result"
    }
   ],
   "source": [
    "np.sort(np.absolute(pdiff))[::-1]"
   ]
  },
  {
   "cell_type": "code",
   "execution_count": 45,
   "id": "6ae6a087",
   "metadata": {},
   "outputs": [
    {
     "name": "stderr",
     "output_type": "stream",
     "text": [
      "/local/ipykernel_3190362/2335772306.py:4: UserWarning: cmr10 font should ideally be used with mathtext, set axes.formatter.use_mathtext to True\n",
      "  fig, axs = plt.subplots(1, 3, figsize=(14, 6))\n"
     ]
    },
    {
     "data": {
      "text/plain": [
       "Text(0, 0.5, '$E$ (meV)')"
      ]
     },
     "execution_count": 45,
     "metadata": {},
     "output_type": "execute_result"
    },
    {
     "data": {
      "image/png": "[encoded data removed]",
      "text/plain": [
       "<Figure size 1008x432 with 3 Axes>"
      ]
     },
     "metadata": {
      "needs_background": "light"
     },
     "output_type": "display_data"
    }
   ],
   "source": [
    "xticks = np.array([i for i in range(basis_obj.nkpt)])\n",
    "dx = 0.2\n",
    "\n",
    "fig, axs = plt.subplots(1, 3, figsize=(14, 6))\n",
    "axs = axs.flatten()\n",
    "\n",
    "for i in range(basis_obj.nkpt):\n",
    "    label1, label2 = None, None\n",
    "    labeld, labelpd = None, None\n",
    "    \n",
    "    if i == 0:\n",
    "        label1 = 'CM'\n",
    "        label2 = '$t$ matrix'\n",
    "        labeld = r'$\\Delta E$ (meV)'\n",
    "        labelpd = r'% $\\Delta E$'\n",
    "        \n",
    "    x = xticks[i]\n",
    "    axs[0].hlines(bloch_energy[i], x-dx, x+dx, color='b', label=label1)\n",
    "    axs[0].hlines(t_e[i], x-dx, x+dx, color='r', label=label2)\n",
    "    \n",
    "    axs[1].hlines(diff[i], x-dx, x+dx, label=labeld)\n",
    "    axs[2].hlines(pdiff[i], x-dx, x+dx, label=labelpd)\n",
    "\n",
    "for ax in axs:\n",
    "    ax.set_xlabel('kpt idx')\n",
    "    ax.legend()\n",
    "    ax.grid()\n",
    "    \n",
    "axs[0].set_ylabel('$E$ (meV)')\n",
    "# axs[2].set_ylim(-10, 10)"
   ]
  },
  {
   "cell_type": "markdown",
   "id": "451fed63",
   "metadata": {},
   "source": [
    "The eigenspectrums agree! So we know that the hopping matrix faithfully represents the non-interacting continuum model in the large $\\theta$ regime."
   ]
  },
  {
   "cell_type": "code",
   "execution_count": null,
   "id": "a56f9ecf",
   "metadata": {},
   "outputs": [],
   "source": []
  },
  {
   "cell_type": "code",
   "execution_count": null,
   "id": "f6ce209b",
   "metadata": {},
   "outputs": [],
   "source": []
  }
 ],
 "metadata": {
  "kernelspec": {
   "display_name": "Python 3 (ipykernel)",
   "language": "python",
   "name": "python3"
  },
  "language_info": {
   "codemirror_mode": {
    "name": "ipython",
    "version": 3
   },
   "file_extension": ".py",
   "mimetype": "text/x-python",
   "name": "python",
   "nbconvert_exporter": "python",
   "pygments_lexer": "ipython3",
   "version": "3.9.12"
  }
 },
 "nbformat": 4,
 "nbformat_minor": 5
}
