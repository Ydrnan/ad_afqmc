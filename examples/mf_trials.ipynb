{
 "cells": [
  {
   "cell_type": "code",
   "execution_count": 1,
   "metadata": {},
   "outputs": [],
   "source": [
    "%load_ext autoreload\n",
    "%autoreload 2"
   ]
  },
  {
   "cell_type": "code",
   "execution_count": null,
   "metadata": {},
   "outputs": [],
   "source": [
    "import sys\n",
    "import numpy as np\n",
    "import os\n",
    "\n",
    "module_path = os.path.abspath(os.path.join(os.getcwd() + \"/..\"))\n",
    "if module_path not in sys.path:\n",
    "    sys.path.append(module_path)\n",
    "\n",
    "from ad_afqmc import driver, pyscf_interface, mpi_jax\n",
    "\n",
    "from pyscf import fci, gto, scf\n",
    "\n",
    "np.set_printoptions(precision=5, suppress=True)"
   ]
  },
  {
   "cell_type": "markdown",
   "metadata": {},
   "source": [
    "### RHF trial ph-afqmc\n"
   ]
  },
  {
   "cell_type": "code",
   "execution_count": null,
   "metadata": {},
   "outputs": [],
   "source": [
    "r = 1.012\n",
    "theta = 106.67 * np.pi / 180.0\n",
    "rz = r * np.sqrt(np.cos(theta / 2) ** 2 - np.sin(theta / 2) ** 2 / 3)\n",
    "dc = 2 * r * np.sin(theta / 2) / np.sqrt(3)\n",
    "atomstring = f\"\"\"\n",
    "                 N 0. 0. 0.\n",
    "                 H 0. {dc} {rz}\n",
    "                 H {r * np.sin(theta/2)} {-dc/2} {rz}\n",
    "                 H {-r * np.sin(theta/2)} {-dc/2} {rz}\n",
    "              \"\"\"\n",
    "mol = gto.M(atom=atomstring, basis=\"sto-6g\", verbose=3, symmetry=0)\n",
    "mf = scf.RHF(mol)\n",
    "mf.kernel()\n",
    "\n",
    "# fci\n",
    "cisolver = fci.FCI(mol, mf.mo_coeff)\n",
    "efci, ci = cisolver.kernel()\n",
    "print(f\"FCI energy: {efci}\")\n",
    "\n",
    "pyscf_interface.prep_afqmc(mf)\n",
    "options = {\n",
    "    \"dt\": 0.005,\n",
    "    \"n_eql\": 3,\n",
    "    \"n_ene_blocks\": 1,\n",
    "    \"n_sr_blocks\": 5,\n",
    "    \"n_blocks\": 100,\n",
    "    \"n_walkers\": 50,\n",
    "    \"seed\": 98,\n",
    "    \"walker_type\": \"rhf\",\n",
    "    \"trial\": \"rhf\",\n",
    "}\n",
    "e_afqmc, err_afqmc = driver.afqmc(*(mpi_jax._prep_afqmc(options)))"
   ]
  },
  {
   "cell_type": "markdown",
   "metadata": {},
   "source": [
    "### UHF trial ph-afqmc\n"
   ]
  },
  {
   "cell_type": "code",
   "execution_count": null,
   "metadata": {},
   "outputs": [],
   "source": [
    "r = 2.0\n",
    "nH = 6\n",
    "atomstring = \"\"\n",
    "for i in range(nH):\n",
    "    atomstring += \"H 0 0 %g\\n\" % (i * r)\n",
    "mol = gto.M(atom=atomstring, basis=\"sto-6g\", verbose=3, unit=\"bohr\")\n",
    "mf = scf.RHF(mol)\n",
    "mf.kernel()\n",
    "\n",
    "umf = scf.UHF(mol)\n",
    "umf.kernel()\n",
    "mo1 = umf.stability(external=True)[0]\n",
    "umf = umf.newton().run(mo1, umf.mo_occ)\n",
    "\n",
    "# fci\n",
    "cisolver = fci.FCI(mol, mf.mo_coeff)\n",
    "efci, ci = cisolver.kernel()\n",
    "print(f\"FCI energy: {efci}\")\n",
    "\n",
    "pyscf_interface.prep_afqmc(umf)\n",
    "options = {\n",
    "    \"dt\": 0.005,\n",
    "    \"n_eql\": 3,\n",
    "    \"n_ene_blocks\": 1,\n",
    "    \"n_sr_blocks\": 5,\n",
    "    \"n_blocks\": 100,\n",
    "    \"n_walkers\": 50,\n",
    "    \"seed\": 98,\n",
    "    \"walker_type\": \"rhf\",\n",
    "    \"trial\": \"uhf\",\n",
    "}\n",
    "e_afqmc, err_afqmc = driver.afqmc(*(mpi_jax._prep_afqmc(options)))"
   ]
  }
 ],
 "metadata": {
  "kernelspec": {
   "display_name": "py311",
   "language": "python",
   "name": "python3"
  },
  "language_info": {
   "codemirror_mode": {
    "name": "ipython",
    "version": 3
   },
   "file_extension": ".py",
   "mimetype": "text/x-python",
   "name": "python",
   "nbconvert_exporter": "python",
   "pygments_lexer": "ipython3",
   "version": "3.11.5"
  }
 },
 "nbformat": 4,
 "nbformat_minor": 2
}
